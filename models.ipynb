{
 "cells": [
  {
   "cell_type": "code",
   "execution_count": 1,
   "metadata": {},
   "outputs": [],
   "source": [
    "import openpyxl\n",
    "import pandas as pd\n",
    "import numpy as np\n",
    "import matplotlib.pyplot as plt\n",
    "import seaborn as sns\n",
    "%matplotlib inline"
   ]
  },
  {
   "cell_type": "code",
   "execution_count": 2,
   "metadata": {},
   "outputs": [],
   "source": [
    "df = pd.read_excel('C:/Users/nagpa/Desktop/traffic ml/trafficAnalysis/filtered_final_df3.xlsx')"
   ]
  },
  {
   "cell_type": "code",
   "execution_count": 3,
   "metadata": {},
   "outputs": [
    {
     "data": {
      "text/html": [
       "<div>\n",
       "<style scoped>\n",
       "    .dataframe tbody tr th:only-of-type {\n",
       "        vertical-align: middle;\n",
       "    }\n",
       "\n",
       "    .dataframe tbody tr th {\n",
       "        vertical-align: top;\n",
       "    }\n",
       "\n",
       "    .dataframe thead th {\n",
       "        text-align: right;\n",
       "    }\n",
       "</style>\n",
       "<table border=\"1\" class=\"dataframe\">\n",
       "  <thead>\n",
       "    <tr style=\"text-align: right;\">\n",
       "      <th></th>\n",
       "      <th>VehicleSpeedAverage</th>\n",
       "      <th>VehicleSpeedVariance</th>\n",
       "      <th>LongitudinalAcceleration</th>\n",
       "      <th>EngineLoad</th>\n",
       "      <th>EngineCoolantTemperature</th>\n",
       "      <th>ManifoldAbsolutePressure</th>\n",
       "      <th>EngineRPM</th>\n",
       "      <th>MassAirFlow</th>\n",
       "      <th>IntakeAirTemperature</th>\n",
       "      <th>VerticalAcceleration</th>\n",
       "      <th>FuelConsumptionAverage</th>\n",
       "      <th>mahala</th>\n",
       "      <th>traffic</th>\n",
       "    </tr>\n",
       "  </thead>\n",
       "  <tbody>\n",
       "    <tr>\n",
       "      <th>0</th>\n",
       "      <td>6.060</td>\n",
       "      <td>115.840061</td>\n",
       "      <td>1.0548</td>\n",
       "      <td>38.039215</td>\n",
       "      <td>31</td>\n",
       "      <td>101</td>\n",
       "      <td>798.0</td>\n",
       "      <td>6.22</td>\n",
       "      <td>15</td>\n",
       "      <td>-0.5982</td>\n",
       "      <td>27.919697</td>\n",
       "      <td>17.937478</td>\n",
       "      <td>1</td>\n",
       "    </tr>\n",
       "    <tr>\n",
       "      <th>1</th>\n",
       "      <td>6.345</td>\n",
       "      <td>117.200816</td>\n",
       "      <td>0.9012</td>\n",
       "      <td>38.039215</td>\n",
       "      <td>31</td>\n",
       "      <td>101</td>\n",
       "      <td>797.5</td>\n",
       "      <td>6.27</td>\n",
       "      <td>15</td>\n",
       "      <td>-0.5244</td>\n",
       "      <td>26.458355</td>\n",
       "      <td>13.499702</td>\n",
       "      <td>1</td>\n",
       "    </tr>\n",
       "    <tr>\n",
       "      <th>2</th>\n",
       "      <td>6.585</td>\n",
       "      <td>117.559595</td>\n",
       "      <td>0.9331</td>\n",
       "      <td>90.588234</td>\n",
       "      <td>32</td>\n",
       "      <td>101</td>\n",
       "      <td>797.5</td>\n",
       "      <td>6.27</td>\n",
       "      <td>15</td>\n",
       "      <td>-0.5068</td>\n",
       "      <td>26.458355</td>\n",
       "      <td>17.521610</td>\n",
       "      <td>1</td>\n",
       "    </tr>\n",
       "    <tr>\n",
       "      <th>3</th>\n",
       "      <td>6.825</td>\n",
       "      <td>117.801222</td>\n",
       "      <td>0.9878</td>\n",
       "      <td>90.588234</td>\n",
       "      <td>32</td>\n",
       "      <td>101</td>\n",
       "      <td>726.0</td>\n",
       "      <td>8.63</td>\n",
       "      <td>15</td>\n",
       "      <td>-0.4882</td>\n",
       "      <td>26.004126</td>\n",
       "      <td>18.987033</td>\n",
       "      <td>1</td>\n",
       "    </tr>\n",
       "    <tr>\n",
       "      <th>4</th>\n",
       "      <td>7.065</td>\n",
       "      <td>117.925697</td>\n",
       "      <td>1.1316</td>\n",
       "      <td>92.941177</td>\n",
       "      <td>32</td>\n",
       "      <td>101</td>\n",
       "      <td>784.0</td>\n",
       "      <td>8.88</td>\n",
       "      <td>15</td>\n",
       "      <td>-0.6712</td>\n",
       "      <td>25.295498</td>\n",
       "      <td>17.767989</td>\n",
       "      <td>1</td>\n",
       "    </tr>\n",
       "  </tbody>\n",
       "</table>\n",
       "</div>"
      ],
      "text/plain": [
       "   VehicleSpeedAverage  VehicleSpeedVariance  LongitudinalAcceleration  \\\n",
       "0                6.060            115.840061                    1.0548   \n",
       "1                6.345            117.200816                    0.9012   \n",
       "2                6.585            117.559595                    0.9331   \n",
       "3                6.825            117.801222                    0.9878   \n",
       "4                7.065            117.925697                    1.1316   \n",
       "\n",
       "   EngineLoad  EngineCoolantTemperature  ManifoldAbsolutePressure  EngineRPM  \\\n",
       "0   38.039215                        31                       101      798.0   \n",
       "1   38.039215                        31                       101      797.5   \n",
       "2   90.588234                        32                       101      797.5   \n",
       "3   90.588234                        32                       101      726.0   \n",
       "4   92.941177                        32                       101      784.0   \n",
       "\n",
       "   MassAirFlow  IntakeAirTemperature  VerticalAcceleration  \\\n",
       "0         6.22                    15               -0.5982   \n",
       "1         6.27                    15               -0.5244   \n",
       "2         6.27                    15               -0.5068   \n",
       "3         8.63                    15               -0.4882   \n",
       "4         8.88                    15               -0.6712   \n",
       "\n",
       "   FuelConsumptionAverage     mahala  traffic  \n",
       "0               27.919697  17.937478        1  \n",
       "1               26.458355  13.499702        1  \n",
       "2               26.458355  17.521610        1  \n",
       "3               26.004126  18.987033        1  \n",
       "4               25.295498  17.767989        1  "
      ]
     },
     "execution_count": 3,
     "metadata": {},
     "output_type": "execute_result"
    }
   ],
   "source": [
    "df.head()"
   ]
  },
  {
   "cell_type": "code",
   "execution_count": 4,
   "metadata": {},
   "outputs": [
    {
     "data": {
      "text/plain": [
       "1    7548\n",
       "3    2447\n",
       "2    2414\n",
       "Name: traffic, dtype: int64"
      ]
     },
     "execution_count": 4,
     "metadata": {},
     "output_type": "execute_result"
    }
   ],
   "source": [
    "df['traffic'].value_counts()"
   ]
  },
  {
   "cell_type": "code",
   "execution_count": 5,
   "metadata": {},
   "outputs": [],
   "source": [
    "df = df.drop(columns='mahala')"
   ]
  },
  {
   "cell_type": "code",
   "execution_count": 6,
   "metadata": {},
   "outputs": [],
   "source": [
    "# putting feature variables in X\n",
    "X = df.drop('traffic',axis=1)\n",
    "#putting target variable in Y\n",
    "Y = df['traffic']"
   ]
  },
  {
   "cell_type": "code",
   "execution_count": 8,
   "metadata": {},
   "outputs": [],
   "source": [
    "from imblearn.over_sampling import SMOTE"
   ]
  },
  {
   "cell_type": "code",
   "execution_count": 9,
   "metadata": {},
   "outputs": [],
   "source": [
    "smote = SMOTE(random_state=42)"
   ]
  },
  {
   "cell_type": "code",
   "execution_count": 10,
   "metadata": {},
   "outputs": [],
   "source": [
    "X_smote, Y_smote = smote.fit_resample(X, Y)"
   ]
  },
  {
   "cell_type": "code",
   "execution_count": 11,
   "metadata": {},
   "outputs": [],
   "source": [
    "# splitting data into train and test\n",
    "from sklearn.model_selection import train_test_split\n",
    "\n",
    "X_train,X_test,Y_train,Y_test = train_test_split(X_smote,Y_smote, train_size = 0.65,random_state=42)"
   ]
  },
  {
   "cell_type": "code",
   "execution_count": 12,
   "metadata": {},
   "outputs": [
    {
     "data": {
      "text/plain": [
       "((14718, 11), (7926, 11))"
      ]
     },
     "execution_count": 12,
     "metadata": {},
     "output_type": "execute_result"
    }
   ],
   "source": [
    "X_train.shape, X_test.shape"
   ]
  },
  {
   "cell_type": "markdown",
   "metadata": {},
   "source": [
    "## 1. Random Forest"
   ]
  },
  {
   "cell_type": "code",
   "execution_count": 13,
   "metadata": {},
   "outputs": [],
   "source": [
    "from sklearn.ensemble import RandomForestClassifier\n",
    "\n",
    "classifier_rf = RandomForestClassifier(random_state = 42, n_jobs = 1, max_depth = 5,\n",
    "                                       n_estimators=100,oob_score=True,max_features=3)"
   ]
  },
  {
   "cell_type": "code",
   "execution_count": 14,
   "metadata": {},
   "outputs": [
    {
     "name": "stdout",
     "output_type": "stream",
     "text": [
      "Wall time: 1.21 s\n"
     ]
    },
    {
     "data": {
      "text/plain": [
       "RandomForestClassifier(max_depth=5, max_features=3, n_jobs=1, oob_score=True,\n",
       "                       random_state=42)"
      ]
     },
     "execution_count": 14,
     "metadata": {},
     "output_type": "execute_result"
    }
   ],
   "source": [
    "%%time\n",
    "classifier_rf.fit(X_train,Y_train)"
   ]
  },
  {
   "cell_type": "code",
   "execution_count": 15,
   "metadata": {},
   "outputs": [
    {
     "data": {
      "text/plain": [
       "0.8611903791275989"
      ]
     },
     "execution_count": 15,
     "metadata": {},
     "output_type": "execute_result"
    }
   ],
   "source": [
    "classifier_rf.oob_score_"
   ]
  },
  {
   "cell_type": "code",
   "execution_count": 16,
   "metadata": {},
   "outputs": [],
   "source": [
    "# hyper parameter tuning using grid search\n",
    "\n",
    "rf = RandomForestClassifier(random_state=42,n_jobs=1)\n",
    "\n",
    "params = {\n",
    "    'max_depth' : [2,3,5,10,20],\n",
    "    'min_samples_leaf' : [5,10,20,50,100,200],\n",
    "    'n_estimators' : [10,25,30,50,100,200]\n",
    "}\n",
    "\n",
    "from sklearn.model_selection import GridSearchCV\n",
    "\n",
    "grid_search = GridSearchCV(estimator=rf,\n",
    "                           param_grid=params,\n",
    "                           cv = 4,\n",
    "                           n_jobs=1, verbose=1, scoring = \"accuracy\")"
   ]
  },
  {
   "cell_type": "code",
   "execution_count": 17,
   "metadata": {},
   "outputs": [
    {
     "name": "stdout",
     "output_type": "stream",
     "text": [
      "Fitting 4 folds for each of 180 candidates, totalling 720 fits\n",
      "Wall time: 6min 59s\n"
     ]
    },
    {
     "data": {
      "text/plain": [
       "GridSearchCV(cv=4, estimator=RandomForestClassifier(n_jobs=1, random_state=42),\n",
       "             n_jobs=1,\n",
       "             param_grid={'max_depth': [2, 3, 5, 10, 20],\n",
       "                         'min_samples_leaf': [5, 10, 20, 50, 100, 200],\n",
       "                         'n_estimators': [10, 25, 30, 50, 100, 200]},\n",
       "             scoring='accuracy', verbose=1)"
      ]
     },
     "execution_count": 17,
     "metadata": {},
     "output_type": "execute_result"
    }
   ],
   "source": [
    "%%time\n",
    "grid_search.fit(X_train,Y_train)"
   ]
  },
  {
   "cell_type": "code",
   "execution_count": 18,
   "metadata": {},
   "outputs": [
    {
     "data": {
      "text/plain": [
       "0.9783255913409835"
      ]
     },
     "execution_count": 18,
     "metadata": {},
     "output_type": "execute_result"
    }
   ],
   "source": [
    "grid_search.best_score_"
   ]
  },
  {
   "cell_type": "code",
   "execution_count": 19,
   "metadata": {},
   "outputs": [],
   "source": [
    "results_rf = pd.DataFrame(grid_search.cv_results_)\n",
    "scores_rf = results_rf[['mean_test_score', 'param_n_estimators',  'param_min_samples_leaf']]\n",
    "scores_rf = scores_rf.sort_values(by = 'mean_test_score',ascending = False)"
   ]
  },
  {
   "cell_type": "code",
   "execution_count": 20,
   "metadata": {},
   "outputs": [
    {
     "data": {
      "image/png": "[encoded data removed]",
      "text/plain": [
       "<Figure size 1000x600 with 1 Axes>"
      ]
     },
     "metadata": {},
     "output_type": "display_data"
    }
   ],
   "source": [
    "scores_rf = scores_rf.nlargest(10,'mean_test_score')\n",
    "\n",
    "plt.figure(figsize = (10,6))\n",
    "plt.bar(range(len(scores_rf)),scores_rf['mean_test_score'],align='center')\n",
    "\n",
    "for i, score in enumerate(scores_rf['mean_test_score']):\n",
    "    plt.text(i,score,f'{score:.3f}', ha='center', va='bottom')\n",
    "\n",
    "\n",
    "plt.title('Grid Search Scores')\n",
    "plt.xlabel('Hyperparameter Combination Index')\n",
    "plt.ylabel('Mean Test Score')\n",
    "plt.xticks(range(len(scores_rf)), [f\"{row.param_n_estimators}, {row.param_min_samples_leaf}\"\n",
    "                                 for idx, row in scores_rf.iterrows()], rotation=90)\n",
    "\n",
    "# Adjust layout to fit labels\n",
    "plt.tight_layout()\n",
    "\n",
    "# Show the plot\n",
    "plt.show()"
   ]
  },
  {
   "cell_type": "code",
   "execution_count": 21,
   "metadata": {},
   "outputs": [
    {
     "name": "stdout",
     "output_type": "stream",
     "text": [
      "Best Hyperparameters: {'max_depth': 20, 'min_samples_leaf': 5, 'n_estimators': 100}\n"
     ]
    }
   ],
   "source": [
    "best_hyperparams = grid_search.best_params_\n",
    "print(\"Best Hyperparameters:\", best_hyperparams)"
   ]
  },
  {
   "cell_type": "code",
   "execution_count": 22,
   "metadata": {},
   "outputs": [
    {
     "data": {
      "text/plain": [
       "RandomForestClassifier(max_depth=20, min_samples_leaf=5, n_jobs=1,\n",
       "                       random_state=42)"
      ]
     },
     "execution_count": 22,
     "metadata": {},
     "output_type": "execute_result"
    }
   ],
   "source": [
    "rf_best = grid_search.best_estimator_\n",
    "rf_best"
   ]
  },
  {
   "cell_type": "code",
   "execution_count": 23,
   "metadata": {},
   "outputs": [],
   "source": [
    "Y_pred = rf_best.predict(X_test)"
   ]
  },
  {
   "cell_type": "code",
   "execution_count": 24,
   "metadata": {},
   "outputs": [],
   "source": [
    "from sklearn import metrics "
   ]
  },
  {
   "cell_type": "code",
   "execution_count": 25,
   "metadata": {},
   "outputs": [
    {
     "name": "stdout",
     "output_type": "stream",
     "text": [
      "ACCURACY OF THE MODEL: 0.9799394398183194\n"
     ]
    }
   ],
   "source": [
    "print(\"ACCURACY OF THE MODEL:\", metrics.accuracy_score(Y_test, Y_pred))"
   ]
  },
  {
   "cell_type": "code",
   "execution_count": 26,
   "metadata": {},
   "outputs": [
    {
     "data": {
      "text/html": [
       "<div>\n",
       "<style scoped>\n",
       "    .dataframe tbody tr th:only-of-type {\n",
       "        vertical-align: middle;\n",
       "    }\n",
       "\n",
       "    .dataframe tbody tr th {\n",
       "        vertical-align: top;\n",
       "    }\n",
       "\n",
       "    .dataframe thead th {\n",
       "        text-align: right;\n",
       "    }\n",
       "</style>\n",
       "<table border=\"1\" class=\"dataframe\">\n",
       "  <thead>\n",
       "    <tr style=\"text-align: right;\">\n",
       "      <th></th>\n",
       "      <th>VehicleSpeedAverage</th>\n",
       "      <th>VehicleSpeedVariance</th>\n",
       "      <th>LongitudinalAcceleration</th>\n",
       "      <th>EngineLoad</th>\n",
       "      <th>EngineCoolantTemperature</th>\n",
       "      <th>ManifoldAbsolutePressure</th>\n",
       "      <th>EngineRPM</th>\n",
       "      <th>MassAirFlow</th>\n",
       "      <th>IntakeAirTemperature</th>\n",
       "      <th>VerticalAcceleration</th>\n",
       "      <th>FuelConsumptionAverage</th>\n",
       "    </tr>\n",
       "  </thead>\n",
       "  <tbody>\n",
       "    <tr>\n",
       "      <th>20298</th>\n",
       "      <td>18.199213</td>\n",
       "      <td>169.829320</td>\n",
       "      <td>-0.107461</td>\n",
       "      <td>41.176472</td>\n",
       "      <td>39</td>\n",
       "      <td>102</td>\n",
       "      <td>791.807958</td>\n",
       "      <td>5.876046</td>\n",
       "      <td>13</td>\n",
       "      <td>-0.111366</td>\n",
       "      <td>19.729769</td>\n",
       "    </tr>\n",
       "    <tr>\n",
       "      <th>5170</th>\n",
       "      <td>38.279999</td>\n",
       "      <td>42.132811</td>\n",
       "      <td>0.852500</td>\n",
       "      <td>0.000000</td>\n",
       "      <td>79</td>\n",
       "      <td>109</td>\n",
       "      <td>1662.500000</td>\n",
       "      <td>20.879999</td>\n",
       "      <td>35</td>\n",
       "      <td>-0.547900</td>\n",
       "      <td>9.439765</td>\n",
       "    </tr>\n",
       "    <tr>\n",
       "      <th>15551</th>\n",
       "      <td>49.762536</td>\n",
       "      <td>512.171418</td>\n",
       "      <td>0.839549</td>\n",
       "      <td>30.098084</td>\n",
       "      <td>79</td>\n",
       "      <td>103</td>\n",
       "      <td>752.750112</td>\n",
       "      <td>4.662301</td>\n",
       "      <td>28</td>\n",
       "      <td>-0.642911</td>\n",
       "      <td>14.047907</td>\n",
       "    </tr>\n",
       "    <tr>\n",
       "      <th>15642</th>\n",
       "      <td>36.722035</td>\n",
       "      <td>87.521040</td>\n",
       "      <td>-0.763342</td>\n",
       "      <td>67.247684</td>\n",
       "      <td>69</td>\n",
       "      <td>108</td>\n",
       "      <td>1447.455886</td>\n",
       "      <td>16.144007</td>\n",
       "      <td>19</td>\n",
       "      <td>-0.234356</td>\n",
       "      <td>13.247760</td>\n",
       "    </tr>\n",
       "    <tr>\n",
       "      <th>12371</th>\n",
       "      <td>36.104999</td>\n",
       "      <td>247.725211</td>\n",
       "      <td>-0.241000</td>\n",
       "      <td>30.588236</td>\n",
       "      <td>77</td>\n",
       "      <td>102</td>\n",
       "      <td>759.500000</td>\n",
       "      <td>4.740000</td>\n",
       "      <td>19</td>\n",
       "      <td>-0.369200</td>\n",
       "      <td>12.438296</td>\n",
       "    </tr>\n",
       "    <tr>\n",
       "      <th>...</th>\n",
       "      <td>...</td>\n",
       "      <td>...</td>\n",
       "      <td>...</td>\n",
       "      <td>...</td>\n",
       "      <td>...</td>\n",
       "      <td>...</td>\n",
       "      <td>...</td>\n",
       "      <td>...</td>\n",
       "      <td>...</td>\n",
       "      <td>...</td>\n",
       "      <td>...</td>\n",
       "    </tr>\n",
       "    <tr>\n",
       "      <th>4089</th>\n",
       "      <td>2.985000</td>\n",
       "      <td>76.290781</td>\n",
       "      <td>0.515100</td>\n",
       "      <td>30.196079</td>\n",
       "      <td>78</td>\n",
       "      <td>103</td>\n",
       "      <td>755.000000</td>\n",
       "      <td>4.690000</td>\n",
       "      <td>36</td>\n",
       "      <td>-0.988000</td>\n",
       "      <td>9.847162</td>\n",
       "    </tr>\n",
       "    <tr>\n",
       "      <th>22399</th>\n",
       "      <td>22.450789</td>\n",
       "      <td>26.798692</td>\n",
       "      <td>-0.626712</td>\n",
       "      <td>64.103229</td>\n",
       "      <td>59</td>\n",
       "      <td>119</td>\n",
       "      <td>1893.690717</td>\n",
       "      <td>22.096331</td>\n",
       "      <td>24</td>\n",
       "      <td>0.571358</td>\n",
       "      <td>17.355587</td>\n",
       "    </tr>\n",
       "    <tr>\n",
       "      <th>9690</th>\n",
       "      <td>22.739999</td>\n",
       "      <td>141.705146</td>\n",
       "      <td>0.751000</td>\n",
       "      <td>72.549019</td>\n",
       "      <td>62</td>\n",
       "      <td>105</td>\n",
       "      <td>1221.000000</td>\n",
       "      <td>14.300000</td>\n",
       "      <td>18</td>\n",
       "      <td>-0.571700</td>\n",
       "      <td>13.842172</td>\n",
       "    </tr>\n",
       "    <tr>\n",
       "      <th>18075</th>\n",
       "      <td>5.492559</td>\n",
       "      <td>0.179936</td>\n",
       "      <td>-0.210255</td>\n",
       "      <td>34.996831</td>\n",
       "      <td>52</td>\n",
       "      <td>102</td>\n",
       "      <td>782.120960</td>\n",
       "      <td>9.690000</td>\n",
       "      <td>17</td>\n",
       "      <td>-0.053409</td>\n",
       "      <td>18.388115</td>\n",
       "    </tr>\n",
       "    <tr>\n",
       "      <th>16107</th>\n",
       "      <td>18.486056</td>\n",
       "      <td>159.839056</td>\n",
       "      <td>0.075998</td>\n",
       "      <td>42.795343</td>\n",
       "      <td>27</td>\n",
       "      <td>102</td>\n",
       "      <td>800.311980</td>\n",
       "      <td>6.580083</td>\n",
       "      <td>12</td>\n",
       "      <td>-0.315569</td>\n",
       "      <td>21.729990</td>\n",
       "    </tr>\n",
       "  </tbody>\n",
       "</table>\n",
       "<p>7926 rows × 11 columns</p>\n",
       "</div>"
      ],
      "text/plain": [
       "       VehicleSpeedAverage  VehicleSpeedVariance  LongitudinalAcceleration  \\\n",
       "20298            18.199213            169.829320                 -0.107461   \n",
       "5170             38.279999             42.132811                  0.852500   \n",
       "15551            49.762536            512.171418                  0.839549   \n",
       "15642            36.722035             87.521040                 -0.763342   \n",
       "12371            36.104999            247.725211                 -0.241000   \n",
       "...                    ...                   ...                       ...   \n",
       "4089              2.985000             76.290781                  0.515100   \n",
       "22399            22.450789             26.798692                 -0.626712   \n",
       "9690             22.739999            141.705146                  0.751000   \n",
       "18075             5.492559              0.179936                 -0.210255   \n",
       "16107            18.486056            159.839056                  0.075998   \n",
       "\n",
       "       EngineLoad  EngineCoolantTemperature  ManifoldAbsolutePressure  \\\n",
       "20298   41.176472                        39                       102   \n",
       "5170     0.000000                        79                       109   \n",
       "15551   30.098084                        79                       103   \n",
       "15642   67.247684                        69                       108   \n",
       "12371   30.588236                        77                       102   \n",
       "...           ...                       ...                       ...   \n",
       "4089    30.196079                        78                       103   \n",
       "22399   64.103229                        59                       119   \n",
       "9690    72.549019                        62                       105   \n",
       "18075   34.996831                        52                       102   \n",
       "16107   42.795343                        27                       102   \n",
       "\n",
       "         EngineRPM  MassAirFlow  IntakeAirTemperature  VerticalAcceleration  \\\n",
       "20298   791.807958     5.876046                    13             -0.111366   \n",
       "5170   1662.500000    20.879999                    35             -0.547900   \n",
       "15551   752.750112     4.662301                    28             -0.642911   \n",
       "15642  1447.455886    16.144007                    19             -0.234356   \n",
       "12371   759.500000     4.740000                    19             -0.369200   \n",
       "...            ...          ...                   ...                   ...   \n",
       "4089    755.000000     4.690000                    36             -0.988000   \n",
       "22399  1893.690717    22.096331                    24              0.571358   \n",
       "9690   1221.000000    14.300000                    18             -0.571700   \n",
       "18075   782.120960     9.690000                    17             -0.053409   \n",
       "16107   800.311980     6.580083                    12             -0.315569   \n",
       "\n",
       "       FuelConsumptionAverage  \n",
       "20298               19.729769  \n",
       "5170                 9.439765  \n",
       "15551               14.047907  \n",
       "15642               13.247760  \n",
       "12371               12.438296  \n",
       "...                       ...  \n",
       "4089                 9.847162  \n",
       "22399               17.355587  \n",
       "9690                13.842172  \n",
       "18075               18.388115  \n",
       "16107               21.729990  \n",
       "\n",
       "[7926 rows x 11 columns]"
      ]
     },
     "execution_count": 26,
     "metadata": {},
     "output_type": "execute_result"
    }
   ],
   "source": [
    "X_test"
   ]
  },
  {
   "cell_type": "code",
   "execution_count": 27,
   "metadata": {},
   "outputs": [
    {
     "data": {
      "text/plain": [
       "20298    3\n",
       "5170     1\n",
       "15551    2\n",
       "15642    2\n",
       "12371    2\n",
       "        ..\n",
       "4089     1\n",
       "22399    3\n",
       "9690     2\n",
       "18075    3\n",
       "16107    2\n",
       "Name: traffic, Length: 7926, dtype: int64"
      ]
     },
     "execution_count": 27,
     "metadata": {},
     "output_type": "execute_result"
    }
   ],
   "source": [
    "Y_test"
   ]
  },
  {
   "cell_type": "code",
   "execution_count": 28,
   "metadata": {},
   "outputs": [
    {
     "name": "stderr",
     "output_type": "stream",
     "text": [
      "c:\\Users\\nagpa\\miniconda3\\lib\\site-packages\\sklearn\\base.py:451: UserWarning: X does not have valid feature names, but RandomForestClassifier was fitted with feature names\n",
      "  \"X does not have valid feature names, but\"\n"
     ]
    },
    {
     "data": {
      "text/plain": [
       "array([3], dtype=int64)"
      ]
     },
     "execution_count": 28,
     "metadata": {},
     "output_type": "execute_result"
    }
   ],
   "source": [
    "rf_best.predict([[12.66,36,-0.2,38,44,102,790,5.5,16,-.1,20]])"
   ]
  },
  {
   "cell_type": "code",
   "execution_count": 30,
   "metadata": {},
   "outputs": [
    {
     "name": "stderr",
     "output_type": "stream",
     "text": [
      "c:\\Users\\nagpa\\miniconda3\\lib\\site-packages\\sklearn\\base.py:451: UserWarning: X does not have valid feature names, but RandomForestClassifier was fitted with feature names\n",
      "  \"X does not have valid feature names, but\"\n"
     ]
    },
    {
     "data": {
      "text/plain": [
       "array([1], dtype=int64)"
      ]
     },
     "execution_count": 30,
     "metadata": {},
     "output_type": "execute_result"
    }
   ],
   "source": [
    "rf_best.predict([[30,5,0,20,80,100,1500,10,25,0,5]])"
   ]
  },
  {
   "cell_type": "code",
   "execution_count": 34,
   "metadata": {},
   "outputs": [
    {
     "name": "stderr",
     "output_type": "stream",
     "text": [
      "c:\\Users\\nagpa\\miniconda3\\lib\\site-packages\\sklearn\\base.py:451: UserWarning: X does not have valid feature names, but RandomForestClassifier was fitted with feature names\n",
      "  \"X does not have valid feature names, but\"\n"
     ]
    },
    {
     "data": {
      "text/plain": [
       "array([1], dtype=int64)"
      ]
     },
     "execution_count": 34,
     "metadata": {},
     "output_type": "execute_result"
    }
   ],
   "source": [
    "rf_best.predict([[10,20,-1,70,100,120,2500,25,40,0.5,10]])"
   ]
  },
  {
   "cell_type": "code",
   "execution_count": 35,
   "metadata": {},
   "outputs": [
    {
     "data": {
      "text/plain": [
       "0        1\n",
       "1        1\n",
       "2        1\n",
       "3        1\n",
       "4        1\n",
       "        ..\n",
       "22639    3\n",
       "22640    3\n",
       "22641    3\n",
       "22642    3\n",
       "22643    3\n",
       "Name: traffic, Length: 22644, dtype: int64"
      ]
     },
     "execution_count": 35,
     "metadata": {},
     "output_type": "execute_result"
    }
   ],
   "source": [
    "Y_smote"
   ]
  },
  {
   "cell_type": "code",
   "execution_count": 36,
   "metadata": {},
   "outputs": [
    {
     "data": {
      "text/plain": [
       "1    7548\n",
       "2    7548\n",
       "3    7548\n",
       "Name: traffic, dtype: int64"
      ]
     },
     "execution_count": 36,
     "metadata": {},
     "output_type": "execute_result"
    }
   ],
   "source": [
    "pd.Series(Y_smote).value_counts()"
   ]
  },
  {
   "cell_type": "code",
   "execution_count": 39,
   "metadata": {},
   "outputs": [
    {
     "name": "stderr",
     "output_type": "stream",
     "text": [
      "c:\\Users\\nagpa\\miniconda3\\lib\\site-packages\\sklearn\\base.py:451: UserWarning: X does not have valid feature names, but RandomForestClassifier was fitted with feature names\n",
      "  \"X does not have valid feature names, but\"\n"
     ]
    },
    {
     "data": {
      "text/plain": [
       "array([3], dtype=int64)"
      ]
     },
     "execution_count": 39,
     "metadata": {},
     "output_type": "execute_result"
    }
   ],
   "source": [
    "rf_best.predict([[3.3,24,-0.2,33,49,102,780,5,18,-0.07,22]])"
   ]
  },
  {
   "cell_type": "code",
   "execution_count": 40,
   "metadata": {},
   "outputs": [
    {
     "name": "stderr",
     "output_type": "stream",
     "text": [
      "c:\\Users\\nagpa\\miniconda3\\lib\\site-packages\\sklearn\\base.py:451: UserWarning: X does not have valid feature names, but RandomForestClassifier was fitted with feature names\n",
      "  \"X does not have valid feature names, but\"\n"
     ]
    },
    {
     "data": {
      "text/plain": [
       "array([2], dtype=int64)"
      ]
     },
     "execution_count": 40,
     "metadata": {},
     "output_type": "execute_result"
    }
   ],
   "source": [
    "rf_best.predict([[30,45,0.03,55,70,117,1900,20,31,-0.2,13]])"
   ]
  },
  {
   "cell_type": "code",
   "execution_count": 41,
   "metadata": {},
   "outputs": [],
   "source": [
    "merged_test_data = pd.concat([X_test, Y_test], axis=1)"
   ]
  },
  {
   "cell_type": "code",
   "execution_count": 45,
   "metadata": {},
   "outputs": [],
   "source": [
    "normal_congestion = merged_test_data[merged_test_data['traffic']==2]\n",
    "low_congestion = merged_test_data[merged_test_data['traffic']==1]\n",
    "high_congestion = merged_test_data[merged_test_data['traffic'] ==3]"
   ]
  },
  {
   "cell_type": "code",
   "execution_count": 47,
   "metadata": {},
   "outputs": [
    {
     "name": "stderr",
     "output_type": "stream",
     "text": [
      "c:\\Users\\nagpa\\miniconda3\\lib\\site-packages\\sklearn\\base.py:451: UserWarning: X does not have valid feature names, but RandomForestClassifier was fitted with feature names\n",
      "  \"X does not have valid feature names, but\"\n"
     ]
    },
    {
     "data": {
      "text/plain": [
       "array([2], dtype=int64)"
      ]
     },
     "execution_count": 47,
     "metadata": {},
     "output_type": "execute_result"
    }
   ],
   "source": [
    "rf_best.predict([[49,510,0.8,30,83,98,750,4.5,28,-0.6429,14]])"
   ]
  },
  {
   "cell_type": "code",
   "execution_count": 50,
   "metadata": {},
   "outputs": [
    {
     "name": "stderr",
     "output_type": "stream",
     "text": [
      "c:\\Users\\nagpa\\miniconda3\\lib\\site-packages\\sklearn\\base.py:451: UserWarning: X does not have valid feature names, but RandomForestClassifier was fitted with feature names\n",
      "  \"X does not have valid feature names, but\"\n"
     ]
    },
    {
     "data": {
      "text/plain": [
       "array([3], dtype=int64)"
      ]
     },
     "execution_count": 50,
     "metadata": {},
     "output_type": "execute_result"
    }
   ],
   "source": [
    "rf_best.predict([[22,26,-0.6,64,60,120,1800,22,24,0.5,17]])"
   ]
  },
  {
   "cell_type": "code",
   "execution_count": null,
   "metadata": {},
   "outputs": [],
   "source": []
  }
 ],
 "metadata": {
  "kernelspec": {
   "display_name": "base",
   "language": "python",
   "name": "python3"
  },
  "language_info": {
   "codemirror_mode": {
    "name": "ipython",
    "version": 3
   },
   "file_extension": ".py",
   "mimetype": "text/x-python",
   "name": "python",
   "nbconvert_exporter": "python",
   "pygments_lexer": "ipython3",
   "version": "3.7.15"
  }
 },
 "nbformat": 4,
 "nbformat_minor": 2
}
